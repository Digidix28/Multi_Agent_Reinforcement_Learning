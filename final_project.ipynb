{
 "cells": [
  {
   "cell_type": "code",
   "execution_count": 5,
   "metadata": {},
   "outputs": [
    {
     "name": "stdout",
     "output_type": "stream",
     "text": [
      "Observations initiales: {'agent_0': array([0, 0, 0, 0, 4, 4, 1, 0, 0, 0, 0, 0, 0, 0, 0, 0, 0, 0, 0, 0, 0, 0,\n",
      "       0, 0, 0, 0, 0, 0, 0, 0, 0]), 'agent_1': array([0, 0, 0, 0, 4, 4, 1, 0, 0, 0, 0, 0, 0, 0, 0, 0, 0, 0, 0, 0, 0, 0,\n",
      "       0, 0, 0, 0, 0, 0, 0, 0, 0])}\n",
      "[['A' '_' '_' '_' '_']\n",
      " ['_' '_' '_' '_' '_']\n",
      " ['_' '_' '_' '_' '_']\n",
      " ['_' '_' '_' '_' '_']\n",
      " ['_' '_' '_' '_' 'G']]\n",
      "actions : {'agent_0': np.int64(1), 'agent_1': np.int64(0)}\n",
      "Observations après une action: {'agent_0': array([1, 0, 0, 0, 4, 4, 1, 1, 0, 0, 0, 0, 0, 0, 0, 0, 0, 0, 0, 0, 0, 0,\n",
      "       0, 0, 0, 0, 0, 0, 0, 0, 0]), 'agent_1': array([1, 0, 0, 0, 4, 4, 1, 1, 0, 0, 0, 0, 0, 0, 0, 0, 0, 0, 0, 0, 0, 0,\n",
      "       0, 0, 0, 0, 0, 0, 0, 0, 0])}\n",
      "Récompenses: {'agent_0': 0, 'agent_1': 0}\n",
      "Terminaisons: {'agent_0': False, 'agent_1': False}\n",
      "Troncations: {'agent_0': False, 'agent_1': False}\n",
      "[['A' 'A' '_' '_' '_']\n",
      " ['_' '_' '_' '_' '_']\n",
      " ['_' '_' '_' '_' '_']\n",
      " ['_' '_' '_' '_' '_']\n",
      " ['_' '_' '_' '_' 'G']]\n"
     ]
    }
   ],
   "source": [
    "from custom_gridworld.gridworld_v0 import env\n",
    "\n",
    "# Créez une instance de l'environnement avec les paramètres souhaités\n",
    "environment = env(grid_size=5, num_agents=2, max_steps=200)\n",
    "\n",
    "# Réinitialisez l'environnement\n",
    "obs, infos = environment.reset()\n",
    "print(\"Observations initiales:\", obs)\n",
    "\n",
    "# Affichez l'état initial\n",
    "environment.render()\n",
    "\n",
    "# Effectuez une action aléatoire par agent\n",
    "actions = {agent: environment.action_space(agent).sample() for agent in environment.agents}\n",
    "print(\"actions :\", actions) \n",
    "obs, rewards, terminations, truncations, infos = environment.step(actions)\n",
    "\n",
    "print(\"Observations après une action:\", obs)\n",
    "print(\"Récompenses:\", rewards)\n",
    "print(\"Terminaisons:\", terminations)\n",
    "print(\"Troncations:\", truncations)\n",
    "\n",
    "environment.render()"
   ]
  },
  {
   "cell_type": "code",
   "execution_count": null,
   "metadata": {},
   "outputs": [],
   "source": []
  }
 ],
 "metadata": {
  "kernelspec": {
   "display_name": "Python 3",
   "language": "python",
   "name": "python3"
  },
  "language_info": {
   "codemirror_mode": {
    "name": "ipython",
    "version": 3
   },
   "file_extension": ".py",
   "mimetype": "text/x-python",
   "name": "python",
   "nbconvert_exporter": "python",
   "pygments_lexer": "ipython3",
   "version": "3.10.0"
  }
 },
 "nbformat": 4,
 "nbformat_minor": 2
}
